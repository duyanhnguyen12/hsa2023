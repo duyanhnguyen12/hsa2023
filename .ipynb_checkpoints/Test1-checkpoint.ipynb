{
 "cells": [
  {
   "cell_type": "code",
   "execution_count": 1,
   "id": "b7536880",
   "metadata": {},
   "outputs": [],
   "source": [
    "import numpy as np\n",
    "import matplotlib.pyplot as plt\n",
    "import seaborn as sns\n",
    "import pandas as pd"
   ]
  },
  {
   "cell_type": "code",
   "execution_count": 2,
   "id": "1159ab67",
   "metadata": {},
   "outputs": [],
   "source": [
    "df = pd.read_excel('hsa2023_max.xlsx')"
   ]
  },
  {
   "cell_type": "code",
   "execution_count": 3,
   "id": "0aa36d8f",
   "metadata": {},
   "outputs": [
    {
     "data": {
      "text/html": [
       "<div>\n",
       "<style scoped>\n",
       "    .dataframe tbody tr th:only-of-type {\n",
       "        vertical-align: middle;\n",
       "    }\n",
       "\n",
       "    .dataframe tbody tr th {\n",
       "        vertical-align: top;\n",
       "    }\n",
       "\n",
       "    .dataframe thead th {\n",
       "        text-align: right;\n",
       "    }\n",
       "</style>\n",
       "<table border=\"1\" class=\"dataframe\">\n",
       "  <thead>\n",
       "    <tr style=\"text-align: right;\">\n",
       "      <th></th>\n",
       "      <th>STT</th>\n",
       "      <th>Giới tính</th>\n",
       "      <th>Tỉnh</th>\n",
       "      <th>Trường THPT</th>\n",
       "      <th>HSA1</th>\n",
       "      <th>HSA2</th>\n",
       "      <th>HSA3</th>\n",
       "      <th>HSA</th>\n",
       "    </tr>\n",
       "  </thead>\n",
       "  <tbody>\n",
       "    <tr>\n",
       "      <th>0</th>\n",
       "      <td>1</td>\n",
       "      <td>FEMALE</td>\n",
       "      <td>Thành phố Hà Nội</td>\n",
       "      <td>THPT Đào Duy Từ</td>\n",
       "      <td>33</td>\n",
       "      <td>34</td>\n",
       "      <td>20</td>\n",
       "      <td>85</td>\n",
       "    </tr>\n",
       "    <tr>\n",
       "      <th>1</th>\n",
       "      <td>2</td>\n",
       "      <td>MALE</td>\n",
       "      <td>Cộng Hoà Séc</td>\n",
       "      <td>THPT Trần Hưng Đạo-Thanh Xuân</td>\n",
       "      <td>23</td>\n",
       "      <td>29</td>\n",
       "      <td>21</td>\n",
       "      <td>73</td>\n",
       "    </tr>\n",
       "    <tr>\n",
       "      <th>2</th>\n",
       "      <td>3</td>\n",
       "      <td>MALE</td>\n",
       "      <td>Cộng Hoà Séc</td>\n",
       "      <td>THPT Trần Hưng Đạo-Thanh Xuân</td>\n",
       "      <td>38</td>\n",
       "      <td>34</td>\n",
       "      <td>31</td>\n",
       "      <td>96</td>\n",
       "    </tr>\n",
       "    <tr>\n",
       "      <th>3</th>\n",
       "      <td>4</td>\n",
       "      <td>MALE</td>\n",
       "      <td>Prachatice, Cộng Hoà Séc</td>\n",
       "      <td>THCS&amp;THPT Việt Úc Hà Nội</td>\n",
       "      <td>22</td>\n",
       "      <td>22</td>\n",
       "      <td>16</td>\n",
       "      <td>60</td>\n",
       "    </tr>\n",
       "    <tr>\n",
       "      <th>4</th>\n",
       "      <td>5</td>\n",
       "      <td>MALE</td>\n",
       "      <td>Thành phố Hà Nội</td>\n",
       "      <td>THPT Đoàn Kết-Hai Bà Trưng</td>\n",
       "      <td>9</td>\n",
       "      <td>33</td>\n",
       "      <td>30</td>\n",
       "      <td>72</td>\n",
       "    </tr>\n",
       "  </tbody>\n",
       "</table>\n",
       "</div>"
      ],
      "text/plain": [
       "   STT Giới tính                       Tỉnh                    Trường THPT  \\\n",
       "0    1    FEMALE           Thành phố Hà Nội                THPT Đào Duy Từ   \n",
       "1    2      MALE               Cộng Hoà Séc  THPT Trần Hưng Đạo-Thanh Xuân   \n",
       "2    3      MALE               Cộng Hoà Séc  THPT Trần Hưng Đạo-Thanh Xuân   \n",
       "3    4      MALE  Prachatice, Cộng Hoà Séc        THCS&THPT Việt Úc Hà Nội   \n",
       "4    5      MALE           Thành phố Hà Nội     THPT Đoàn Kết-Hai Bà Trưng   \n",
       "\n",
       "   HSA1  HSA2  HSA3  HSA  \n",
       "0    33    34    20   85  \n",
       "1    23    29    21   73  \n",
       "2    38    34    31   96  \n",
       "3    22    22    16   60  \n",
       "4     9    33    30   72  "
      ]
     },
     "execution_count": 3,
     "metadata": {},
     "output_type": "execute_result"
    }
   ],
   "source": [
    "df.head()"
   ]
  },
  {
   "cell_type": "code",
   "execution_count": 4,
   "id": "24c5cab2",
   "metadata": {},
   "outputs": [
    {
     "name": "stdout",
     "output_type": "stream",
     "text": [
      "<class 'pandas.core.frame.DataFrame'>\n",
      "RangeIndex: 59528 entries, 0 to 59527\n",
      "Data columns (total 8 columns):\n",
      " #   Column       Non-Null Count  Dtype \n",
      "---  ------       --------------  ----- \n",
      " 0   STT          59528 non-null  int64 \n",
      " 1   Giới tính    59528 non-null  object\n",
      " 2   Tỉnh         59528 non-null  object\n",
      " 3   Trường THPT  59528 non-null  object\n",
      " 4   HSA1         59528 non-null  int64 \n",
      " 5   HSA2         59528 non-null  int64 \n",
      " 6   HSA3         59528 non-null  int64 \n",
      " 7   HSA          59528 non-null  int64 \n",
      "dtypes: int64(5), object(3)\n",
      "memory usage: 3.6+ MB\n"
     ]
    }
   ],
   "source": [
    "df.info()"
   ]
  },
  {
   "cell_type": "code",
   "execution_count": null,
   "id": "b84c110c",
   "metadata": {},
   "outputs": [],
   "source": [
    "df.isna().sum()"
   ]
  }
 ],
 "metadata": {
  "kernelspec": {
   "display_name": "Python 3",
   "language": "python",
   "name": "python3"
  },
  "language_info": {
   "codemirror_mode": {
    "name": "ipython",
    "version": 3
   },
   "file_extension": ".py",
   "mimetype": "text/x-python",
   "name": "python",
   "nbconvert_exporter": "python",
   "pygments_lexer": "ipython3",
   "version": "3.9.12"
  }
 },
 "nbformat": 4,
 "nbformat_minor": 5
}
